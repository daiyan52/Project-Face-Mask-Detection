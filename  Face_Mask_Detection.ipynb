{
 "cells": [
  {
   "cell_type": "code",
   "execution_count": 3,
   "id": "65027821",
   "metadata": {},
   "outputs": [
    {
     "name": "stdout",
     "output_type": "stream",
     "text": [
      "Requirement already satisfied: tensorflow in /opt/anaconda3/lib/python3.9/site-packages (2.10.0)\n",
      "Requirement already satisfied: absl-py>=1.0.0 in /opt/anaconda3/lib/python3.9/site-packages (from tensorflow) (1.2.0)\n",
      "Requirement already satisfied: astunparse>=1.6.0 in /opt/anaconda3/lib/python3.9/site-packages (from tensorflow) (1.6.3)\n",
      "Requirement already satisfied: flatbuffers>=2.0 in /opt/anaconda3/lib/python3.9/site-packages (from tensorflow) (2.0.7)\n",
      "Requirement already satisfied: gast<=0.4.0,>=0.2.1 in /opt/anaconda3/lib/python3.9/site-packages (from tensorflow) (0.4.0)\n",
      "Requirement already satisfied: google-pasta>=0.1.1 in /opt/anaconda3/lib/python3.9/site-packages (from tensorflow) (0.2.0)\n",
      "Requirement already satisfied: h5py>=2.9.0 in /opt/anaconda3/lib/python3.9/site-packages (from tensorflow) (3.2.1)\n",
      "Requirement already satisfied: keras-preprocessing>=1.1.1 in /opt/anaconda3/lib/python3.9/site-packages (from tensorflow) (1.1.2)\n",
      "Requirement already satisfied: libclang>=13.0.0 in /opt/anaconda3/lib/python3.9/site-packages (from tensorflow) (14.0.6)\n",
      "Requirement already satisfied: numpy>=1.20 in /opt/anaconda3/lib/python3.9/site-packages (from tensorflow) (1.20.3)\n",
      "Requirement already satisfied: opt-einsum>=2.3.2 in /opt/anaconda3/lib/python3.9/site-packages (from tensorflow) (3.3.0)\n",
      "Requirement already satisfied: packaging in /opt/anaconda3/lib/python3.9/site-packages (from tensorflow) (21.0)\n",
      "Requirement already satisfied: protobuf<3.20,>=3.9.2 in /opt/anaconda3/lib/python3.9/site-packages (from tensorflow) (3.19.5)\n",
      "Requirement already satisfied: setuptools in /opt/anaconda3/lib/python3.9/site-packages (from tensorflow) (58.0.4)\n",
      "Requirement already satisfied: six>=1.12.0 in /opt/anaconda3/lib/python3.9/site-packages (from tensorflow) (1.16.0)\n",
      "Requirement already satisfied: termcolor>=1.1.0 in /opt/anaconda3/lib/python3.9/site-packages (from tensorflow) (2.0.1)\n",
      "Requirement already satisfied: typing-extensions>=3.6.6 in /opt/anaconda3/lib/python3.9/site-packages (from tensorflow) (4.3.0)\n",
      "Requirement already satisfied: wrapt>=1.11.0 in /opt/anaconda3/lib/python3.9/site-packages (from tensorflow) (1.12.1)\n",
      "Requirement already satisfied: tensorflow-io-gcs-filesystem>=0.23.1 in /opt/anaconda3/lib/python3.9/site-packages (from tensorflow) (0.27.0)\n",
      "Requirement already satisfied: grpcio<2.0,>=1.24.3 in /opt/anaconda3/lib/python3.9/site-packages (from tensorflow) (1.49.0)\n",
      "Requirement already satisfied: tensorboard<2.11,>=2.10 in /opt/anaconda3/lib/python3.9/site-packages (from tensorflow) (2.10.0)\n",
      "Requirement already satisfied: tensorflow-estimator<2.11,>=2.10.0 in /opt/anaconda3/lib/python3.9/site-packages (from tensorflow) (2.10.0)\n",
      "Requirement already satisfied: keras<2.11,>=2.10.0 in /opt/anaconda3/lib/python3.9/site-packages (from tensorflow) (2.10.0)\n",
      "Requirement already satisfied: wheel<1.0,>=0.23.0 in /opt/anaconda3/lib/python3.9/site-packages (from astunparse>=1.6.0->tensorflow) (0.37.0)\n",
      "Requirement already satisfied: google-auth<3,>=1.6.3 in /opt/anaconda3/lib/python3.9/site-packages (from tensorboard<2.11,>=2.10->tensorflow) (2.6.6)\n",
      "Requirement already satisfied: google-auth-oauthlib<0.5,>=0.4.1 in /opt/anaconda3/lib/python3.9/site-packages (from tensorboard<2.11,>=2.10->tensorflow) (0.4.6)\n",
      "Requirement already satisfied: markdown>=2.6.8 in /opt/anaconda3/lib/python3.9/site-packages (from tensorboard<2.11,>=2.10->tensorflow) (3.4.1)\n",
      "Requirement already satisfied: requests<3,>=2.21.0 in /opt/anaconda3/lib/python3.9/site-packages (from tensorboard<2.11,>=2.10->tensorflow) (2.31.0)\n",
      "Requirement already satisfied: tensorboard-data-server<0.7.0,>=0.6.0 in /opt/anaconda3/lib/python3.9/site-packages (from tensorboard<2.11,>=2.10->tensorflow) (0.6.1)\n",
      "Requirement already satisfied: tensorboard-plugin-wit>=1.6.0 in /opt/anaconda3/lib/python3.9/site-packages (from tensorboard<2.11,>=2.10->tensorflow) (1.8.1)\n",
      "Requirement already satisfied: werkzeug>=1.0.1 in /opt/anaconda3/lib/python3.9/site-packages (from tensorboard<2.11,>=2.10->tensorflow) (2.0.2)\n",
      "Requirement already satisfied: pyparsing>=2.0.2 in /opt/anaconda3/lib/python3.9/site-packages (from packaging->tensorflow) (3.0.4)\n",
      "Requirement already satisfied: cachetools<6.0,>=2.0.0 in /opt/anaconda3/lib/python3.9/site-packages (from google-auth<3,>=1.6.3->tensorboard<2.11,>=2.10->tensorflow) (5.0.0)\n",
      "Requirement already satisfied: pyasn1-modules>=0.2.1 in /opt/anaconda3/lib/python3.9/site-packages (from google-auth<3,>=1.6.3->tensorboard<2.11,>=2.10->tensorflow) (0.2.8)\n",
      "Requirement already satisfied: rsa<5,>=3.1.4 in /opt/anaconda3/lib/python3.9/site-packages (from google-auth<3,>=1.6.3->tensorboard<2.11,>=2.10->tensorflow) (4.8)\n",
      "Requirement already satisfied: requests-oauthlib>=0.7.0 in /opt/anaconda3/lib/python3.9/site-packages (from google-auth-oauthlib<0.5,>=0.4.1->tensorboard<2.11,>=2.10->tensorflow) (1.3.1)\n",
      "Requirement already satisfied: importlib-metadata>=4.4 in /opt/anaconda3/lib/python3.9/site-packages (from markdown>=2.6.8->tensorboard<2.11,>=2.10->tensorflow) (4.8.1)\n",
      "Requirement already satisfied: charset-normalizer<4,>=2 in /opt/anaconda3/lib/python3.9/site-packages (from requests<3,>=2.21.0->tensorboard<2.11,>=2.10->tensorflow) (2.0.4)\n",
      "Requirement already satisfied: idna<4,>=2.5 in /opt/anaconda3/lib/python3.9/site-packages (from requests<3,>=2.21.0->tensorboard<2.11,>=2.10->tensorflow) (3.2)\n",
      "Requirement already satisfied: urllib3<3,>=1.21.1 in /opt/anaconda3/lib/python3.9/site-packages (from requests<3,>=2.21.0->tensorboard<2.11,>=2.10->tensorflow) (1.26.7)\n",
      "Requirement already satisfied: certifi>=2017.4.17 in /opt/anaconda3/lib/python3.9/site-packages (from requests<3,>=2.21.0->tensorboard<2.11,>=2.10->tensorflow) (2021.10.8)\n",
      "Requirement already satisfied: zipp>=0.5 in /opt/anaconda3/lib/python3.9/site-packages (from importlib-metadata>=4.4->markdown>=2.6.8->tensorboard<2.11,>=2.10->tensorflow) (3.6.0)\n",
      "Requirement already satisfied: pyasn1<0.5.0,>=0.4.6 in /opt/anaconda3/lib/python3.9/site-packages (from pyasn1-modules>=0.2.1->google-auth<3,>=1.6.3->tensorboard<2.11,>=2.10->tensorflow) (0.4.8)\n",
      "Requirement already satisfied: oauthlib>=3.0.0 in /opt/anaconda3/lib/python3.9/site-packages (from requests-oauthlib>=0.7.0->google-auth-oauthlib<0.5,>=0.4.1->tensorboard<2.11,>=2.10->tensorflow) (3.2.0)\n",
      "\u001b[33mDEPRECATION: pyodbc 4.0.0-unsupported has a non-standard version number. pip 24.0 will enforce this behaviour change. A possible replacement is to upgrade to a newer version of pyodbc or contact the author to suggest that they release a version with a conforming version number. Discussion can be found at https://github.com/pypa/pip/issues/12063\u001b[0m\u001b[33m\n",
      "\u001b[0m"
     ]
    }
   ],
   "source": [
    "!pip install tensorflow"
   ]
  },
  {
   "cell_type": "code",
   "execution_count": 2,
   "id": "0625196d",
   "metadata": {},
   "outputs": [
    {
     "name": "stdout",
     "output_type": "stream",
     "text": [
      "Requirement already satisfied: pip in /opt/anaconda3/lib/python3.9/site-packages (23.2.1)\n",
      "Collecting pip\n",
      "  Obtaining dependency information for pip from https://files.pythonhosted.org/packages/47/6a/453160888fab7c6a432a6e25f8afe6256d0d9f2cbd25971021da6491d899/pip-23.3.1-py3-none-any.whl.metadata\n",
      "  Downloading pip-23.3.1-py3-none-any.whl.metadata (3.5 kB)\n",
      "Downloading pip-23.3.1-py3-none-any.whl (2.1 MB)\n",
      "\u001b[2K   \u001b[90m━━━━━━━━━━━━━━━━━━━━━━━━━━━━━━━━━━━━━━━━\u001b[0m \u001b[32m2.1/2.1 MB\u001b[0m \u001b[31m2.2 MB/s\u001b[0m eta \u001b[36m0:00:00\u001b[0m00:01\u001b[0m00:01\u001b[0m\n",
      "\u001b[?25h\u001b[33mDEPRECATION: pyodbc 4.0.0-unsupported has a non-standard version number. pip 23.3 will enforce this behaviour change. A possible replacement is to upgrade to a newer version of pyodbc or contact the author to suggest that they release a version with a conforming version number. Discussion can be found at https://github.com/pypa/pip/issues/12063\u001b[0m\u001b[33m\n",
      "\u001b[0mInstalling collected packages: pip\n",
      "  Attempting uninstall: pip\n",
      "    Found existing installation: pip 23.2.1\n",
      "    Uninstalling pip-23.2.1:\n",
      "      Successfully uninstalled pip-23.2.1\n",
      "Successfully installed pip-23.3.1\n",
      "Note: you may need to restart the kernel to use updated packages.\n"
     ]
    }
   ],
   "source": [
    "pip install --upgrade pip"
   ]
  },
  {
   "cell_type": "code",
   "execution_count": 4,
   "id": "4100ec11",
   "metadata": {},
   "outputs": [
    {
     "name": "stdout",
     "output_type": "stream",
     "text": [
      "Requirement already satisfied: pip in /opt/anaconda3/lib/python3.9/site-packages (23.3.1)\n",
      "\u001b[33mDEPRECATION: pyodbc 4.0.0-unsupported has a non-standard version number. pip 24.0 will enforce this behaviour change. A possible replacement is to upgrade to a newer version of pyodbc or contact the author to suggest that they release a version with a conforming version number. Discussion can be found at https://github.com/pypa/pip/issues/12063\u001b[0m\u001b[33m\n",
      "\u001b[0m"
     ]
    }
   ],
   "source": [
    "!pip install --upgrade pip"
   ]
  },
  {
   "cell_type": "code",
   "execution_count": 5,
   "id": "da6e1651",
   "metadata": {},
   "outputs": [
    {
     "name": "stdout",
     "output_type": "stream",
     "text": [
      "Requirement already satisfied: keras in /opt/anaconda3/lib/python3.9/site-packages (2.10.0)\n",
      "\u001b[33mDEPRECATION: pyodbc 4.0.0-unsupported has a non-standard version number. pip 24.0 will enforce this behaviour change. A possible replacement is to upgrade to a newer version of pyodbc or contact the author to suggest that they release a version with a conforming version number. Discussion can be found at https://github.com/pypa/pip/issues/12063\u001b[0m\u001b[33m\n",
      "\u001b[0m"
     ]
    }
   ],
   "source": [
    "!pip install keras"
   ]
  },
  {
   "cell_type": "code",
   "execution_count": 6,
   "id": "b90d8929",
   "metadata": {},
   "outputs": [
    {
     "name": "stderr",
     "output_type": "stream",
     "text": [
      "2023-12-01 18:15:18.182776: I tensorflow/core/platform/cpu_feature_guard.cc:193] This TensorFlow binary is optimized with oneAPI Deep Neural Network Library (oneDNN) to use the following CPU instructions in performance-critical operations:  AVX2 FMA\n",
      "To enable them in other operations, rebuild TensorFlow with the appropriate compiler flags.\n"
     ]
    }
   ],
   "source": [
    "import tensorflow as tf\n",
    "from keras.preprocessing.image import ImageDataGenerator"
   ]
  },
  {
   "cell_type": "code",
   "execution_count": 7,
   "id": "36b774a6",
   "metadata": {},
   "outputs": [
    {
     "name": "stdout",
     "output_type": "stream",
     "text": [
      "Found 6362 images belonging to 2 classes.\n"
     ]
    }
   ],
   "source": [
    "train_datagen = ImageDataGenerator(rescale = 1./255,\n",
    "                                   shear_range = 0.2,\n",
    "                                   zoom_range = 0.2,\n",
    "                                   horizontal_flip = True)\n",
    "training_set = train_datagen.flow_from_directory('/Users/daiyanalam/Documents/ Face mask detection /datasets/facemask_detection/training_set',\n",
    "                                                 target_size = (64, 64),\n",
    "                                                 batch_size = 32,\n",
    "                                                 class_mode = 'binary')"
   ]
  },
  {
   "cell_type": "code",
   "execution_count": 8,
   "id": "14b5eef4",
   "metadata": {},
   "outputs": [
    {
     "name": "stdout",
     "output_type": "stream",
     "text": [
      "Found 1191 images belonging to 2 classes.\n"
     ]
    }
   ],
   "source": [
    "test_datagen = ImageDataGenerator(rescale = 1./255)\n",
    "test_set = test_datagen.flow_from_directory('/Users/daiyanalam/Documents/ Face mask detection /datasets/facemask_detection/test_set',\n",
    "                                            target_size = (64, 64),\n",
    "                                            batch_size = 32,\n",
    "                                            class_mode = 'binary')"
   ]
  },
  {
   "cell_type": "code",
   "execution_count": 9,
   "id": "04ff072e",
   "metadata": {},
   "outputs": [
    {
     "name": "stderr",
     "output_type": "stream",
     "text": [
      "2023-12-01 18:19:54.001255: I tensorflow/core/platform/cpu_feature_guard.cc:193] This TensorFlow binary is optimized with oneAPI Deep Neural Network Library (oneDNN) to use the following CPU instructions in performance-critical operations:  AVX2 FMA\n",
      "To enable them in other operations, rebuild TensorFlow with the appropriate compiler flags.\n"
     ]
    }
   ],
   "source": [
    "cnn = tf.keras.models.Sequential()"
   ]
  },
  {
   "cell_type": "code",
   "execution_count": 10,
   "id": "d19eaf17",
   "metadata": {},
   "outputs": [],
   "source": [
    "cnn.add(tf.keras.layers.Conv2D(filters=32, kernel_size=3, activation='relu', input_shape=[64, 64, 3]))"
   ]
  },
  {
   "cell_type": "code",
   "execution_count": 11,
   "id": "ac02375b",
   "metadata": {},
   "outputs": [],
   "source": [
    "cnn.add(tf.keras.layers.MaxPool2D(pool_size=2, strides=2))"
   ]
  },
  {
   "cell_type": "code",
   "execution_count": 12,
   "id": "fe2d5541",
   "metadata": {},
   "outputs": [],
   "source": [
    "cnn.add(tf.keras.layers.Conv2D(filters=32, kernel_size=3, activation='relu'))\n",
    "cnn.add(tf.keras.layers.MaxPool2D(pool_size=2, strides=2))"
   ]
  },
  {
   "cell_type": "code",
   "execution_count": 13,
   "id": "ca53f45c",
   "metadata": {},
   "outputs": [],
   "source": [
    "cnn.add(tf.keras.layers.Flatten())"
   ]
  },
  {
   "cell_type": "code",
   "execution_count": 14,
   "id": "bc81fc6e",
   "metadata": {},
   "outputs": [],
   "source": [
    "cnn.add(tf.keras.layers.Dense(units=128, activation='relu'))"
   ]
  },
  {
   "cell_type": "code",
   "execution_count": 15,
   "id": "543c1b95",
   "metadata": {},
   "outputs": [],
   "source": [
    "cnn.add(tf.keras.layers.Dense(units=1, activation='sigmoid'))"
   ]
  },
  {
   "cell_type": "code",
   "execution_count": 16,
   "id": "39c09f28",
   "metadata": {},
   "outputs": [],
   "source": [
    "cnn.compile(optimizer = 'adam', loss = 'binary_crossentropy', metrics = ['accuracy'])"
   ]
  },
  {
   "cell_type": "code",
   "execution_count": 25,
   "id": "bfc25191",
   "metadata": {},
   "outputs": [
    {
     "name": "stdout",
     "output_type": "stream",
     "text": [
      "Epoch 1/3\n",
      "199/199 [==============================] - 52s 262ms/step - loss: 0.2140 - accuracy: 0.9157 - val_loss: 0.1548 - val_accuracy: 0.9471\n",
      "Epoch 2/3\n",
      "199/199 [==============================] - 48s 243ms/step - loss: 0.1983 - accuracy: 0.9202 - val_loss: 0.1833 - val_accuracy: 0.9328\n",
      "Epoch 3/3\n",
      "199/199 [==============================] - 45s 227ms/step - loss: 0.1770 - accuracy: 0.9310 - val_loss: 0.1523 - val_accuracy: 0.9479\n"
     ]
    },
    {
     "data": {
      "text/plain": [
       "<keras.callbacks.History at 0x7fca05f27cd0>"
      ]
     },
     "execution_count": 25,
     "metadata": {},
     "output_type": "execute_result"
    }
   ],
   "source": [
    "cnn.fit(x = training_set, validation_data = test_set, epochs = 3)"
   ]
  },
  {
   "cell_type": "code",
   "execution_count": 27,
   "id": "855645cf",
   "metadata": {},
   "outputs": [
    {
     "ename": "OSError",
     "evalue": "[Errno 63] File name too long: 'data:image/jpeg;base64,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'",
     "output_type": "error",
     "traceback": [
      "\u001b[0;31m---------------------------------------------------------------------------\u001b[0m",
      "\u001b[0;31mOSError\u001b[0m                                   Traceback (most recent call last)",
      "\u001b[0;32m/var/folders/g3/nn6hjm090452zj3cyf3x6wqw0000gn/T/ipykernel_2065/3396568860.py\u001b[0m in \u001b[0;36m<module>\u001b[0;34m\u001b[0m\n\u001b[1;32m      1\u001b[0m \u001b[0;32mimport\u001b[0m \u001b[0mnumpy\u001b[0m \u001b[0;32mas\u001b[0m \u001b[0mnp\u001b[0m\u001b[0;34m\u001b[0m\u001b[0;34m\u001b[0m\u001b[0m\n\u001b[1;32m      2\u001b[0m \u001b[0;32mfrom\u001b[0m \u001b[0mtensorflow\u001b[0m\u001b[0;34m.\u001b[0m\u001b[0mkeras\u001b[0m\u001b[0;34m.\u001b[0m\u001b[0mpreprocessing\u001b[0m \u001b[0;32mimport\u001b[0m \u001b[0mimage\u001b[0m\u001b[0;34m\u001b[0m\u001b[0;34m\u001b[0m\u001b[0m\n\u001b[0;32m----> 3\u001b[0;31m \u001b[0mtest_image\u001b[0m \u001b[0;34m=\u001b[0m \u001b[0mimage\u001b[0m\u001b[0;34m.\u001b[0m\u001b[0mload_img\u001b[0m\u001b[0;34m(\u001b[0m\u001b[0;34m'data:image/jpeg;base64,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'\u001b[0m\u001b[0;34m,\u001b[0m \u001b[0mtarget_size\u001b[0m\u001b[0;34m=\u001b[0m\u001b[0;34m(\u001b[0m\u001b[0;36m64\u001b[0m\u001b[0;34m,\u001b[0m \u001b[0;36m64\u001b[0m\u001b[0;34m)\u001b[0m\u001b[0;34m)\u001b[0m\u001b[0;34m\u001b[0m\u001b[0;34m\u001b[0m\u001b[0m\n\u001b[0m\u001b[1;32m      4\u001b[0m \u001b[0;31m# test_image = image.load_img('/Users/daiyanalam/Documents/ Face mask detection /datasets/facemask_detection/test_set/with_mask_1.jpg', target_size=(64, 64))\u001b[0m\u001b[0;34m\u001b[0m\u001b[0;34m\u001b[0m\u001b[0m\n\u001b[1;32m      5\u001b[0m \u001b[0;34m\u001b[0m\u001b[0m\n",
      "\u001b[0;32m/opt/anaconda3/lib/python3.9/site-packages/keras/utils/image_utils.py\u001b[0m in \u001b[0;36mload_img\u001b[0;34m(path, grayscale, color_mode, target_size, interpolation, keep_aspect_ratio)\u001b[0m\n\u001b[1;32m    420\u001b[0m         \u001b[0;32mif\u001b[0m \u001b[0misinstance\u001b[0m\u001b[0;34m(\u001b[0m\u001b[0mpath\u001b[0m\u001b[0;34m,\u001b[0m \u001b[0mpathlib\u001b[0m\u001b[0;34m.\u001b[0m\u001b[0mPath\u001b[0m\u001b[0;34m)\u001b[0m\u001b[0;34m:\u001b[0m\u001b[0;34m\u001b[0m\u001b[0;34m\u001b[0m\u001b[0m\n\u001b[1;32m    421\u001b[0m             \u001b[0mpath\u001b[0m \u001b[0;34m=\u001b[0m \u001b[0mstr\u001b[0m\u001b[0;34m(\u001b[0m\u001b[0mpath\u001b[0m\u001b[0;34m.\u001b[0m\u001b[0mresolve\u001b[0m\u001b[0;34m(\u001b[0m\u001b[0;34m)\u001b[0m\u001b[0;34m)\u001b[0m\u001b[0;34m\u001b[0m\u001b[0;34m\u001b[0m\u001b[0m\n\u001b[0;32m--> 422\u001b[0;31m         \u001b[0;32mwith\u001b[0m \u001b[0mopen\u001b[0m\u001b[0;34m(\u001b[0m\u001b[0mpath\u001b[0m\u001b[0;34m,\u001b[0m \u001b[0;34m\"rb\"\u001b[0m\u001b[0;34m)\u001b[0m \u001b[0;32mas\u001b[0m \u001b[0mf\u001b[0m\u001b[0;34m:\u001b[0m\u001b[0;34m\u001b[0m\u001b[0;34m\u001b[0m\u001b[0m\n\u001b[0m\u001b[1;32m    423\u001b[0m             \u001b[0mimg\u001b[0m \u001b[0;34m=\u001b[0m \u001b[0mpil_image\u001b[0m\u001b[0;34m.\u001b[0m\u001b[0mopen\u001b[0m\u001b[0;34m(\u001b[0m\u001b[0mio\u001b[0m\u001b[0;34m.\u001b[0m\u001b[0mBytesIO\u001b[0m\u001b[0;34m(\u001b[0m\u001b[0mf\u001b[0m\u001b[0;34m.\u001b[0m\u001b[0mread\u001b[0m\u001b[0;34m(\u001b[0m\u001b[0;34m)\u001b[0m\u001b[0;34m)\u001b[0m\u001b[0;34m)\u001b[0m\u001b[0;34m\u001b[0m\u001b[0;34m\u001b[0m\u001b[0m\n\u001b[1;32m    424\u001b[0m     \u001b[0;32melse\u001b[0m\u001b[0;34m:\u001b[0m\u001b[0;34m\u001b[0m\u001b[0;34m\u001b[0m\u001b[0m\n",
      "\u001b[0;31mOSError\u001b[0m: [Errno 63] File name too long: 'data:image/jpeg;base64,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'"
     ]
    }
   ],
   "source": [
    "import numpy as np\n",
    "from tensorflow.keras.preprocessing import image\n",
    "test_image = image.load_img('/Users/daiyanalam/Documents/ Face mask detection /datasets/facemask_detection/test_set/with_mask_1.jpg', target_size=(64, 64))\n",
    "# test_image = image.load_img('/Users/daiyanalam/Documents/ Face mask detection /datasets/facemask_detection/test_set/with_mask_1.jpg', target_size=(64, 64))\n",
    "\n",
    "test_image = image.img_to_array(test_image)\n",
    "test_image = np.expand_dims(test_image, axis = 0)\n",
    "result = cnn.predict(test_image)\n",
    "training_set.class_indices\n",
    "if result[0][0] == 1:\n",
    "    prediction = 'Without Mask'\n",
    "else:\n",
    "    prediction = 'With Mask'"
   ]
  },
  {
   "cell_type": "code",
   "execution_count": null,
   "id": "1e5dbfcb",
   "metadata": {},
   "outputs": [],
   "source": [
    "print(prediction)"
   ]
  }
 ],
 "metadata": {
  "kernelspec": {
   "display_name": "Python 3 (ipykernel)",
   "language": "python",
   "name": "python3"
  },
  "language_info": {
   "codemirror_mode": {
    "name": "ipython",
    "version": 3
   },
   "file_extension": ".py",
   "mimetype": "text/x-python",
   "name": "python",
   "nbconvert_exporter": "python",
   "pygments_lexer": "ipython3",
   "version": "3.9.7"
  }
 },
 "nbformat": 4,
 "nbformat_minor": 5
}
